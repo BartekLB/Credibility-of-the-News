{
 "cells": [
  {
   "cell_type": "markdown",
   "id": "326a5333-4e7e-4320-89ef-c5bcbdfb8ddd",
   "metadata": {},
   "source": [
    "## <center>Credibility of the News - Training Models</center>"
   ]
  },
  {
   "cell_type": "markdown",
   "id": "b972f033-708a-441d-9f39-b802abe34af2",
   "metadata": {},
   "source": [
    "### Data Manipulation"
   ]
  },
  {
   "cell_type": "code",
   "execution_count": 5,
   "id": "cf0c6c66-f867-4b5f-a89f-b4044d298ba0",
   "metadata": {},
   "outputs": [],
   "source": [
    "import pandas as pd"
   ]
  },
  {
   "cell_type": "markdown",
   "id": "207da3a4-8779-4d99-bac3-3c6c3f0f12ca",
   "metadata": {},
   "source": [
    "#### Data loading"
   ]
  },
  {
   "cell_type": "code",
   "execution_count": 6,
   "id": "3807e9b1-5a4e-438b-9574-917a541f9d78",
   "metadata": {},
   "outputs": [],
   "source": [
    "df=pd.read_csv(\"train.csv\")"
   ]
  },
  {
   "cell_type": "markdown",
   "id": "9116f222-cfec-4823-8521-d6aa5c4ebd92",
   "metadata": {},
   "source": [
    "#### Preview/Description/Data Information"
   ]
  },
  {
   "cell_type": "code",
   "execution_count": 7,
   "id": "c7eada73-e7ea-4632-9f64-919f193a668a",
   "metadata": {},
   "outputs": [
    {
     "data": {
      "text/html": [
       "<div>\n",
       "<style scoped>\n",
       "    .dataframe tbody tr th:only-of-type {\n",
       "        vertical-align: middle;\n",
       "    }\n",
       "\n",
       "    .dataframe tbody tr th {\n",
       "        vertical-align: top;\n",
       "    }\n",
       "\n",
       "    .dataframe thead th {\n",
       "        text-align: right;\n",
       "    }\n",
       "</style>\n",
       "<table border=\"1\" class=\"dataframe\">\n",
       "  <thead>\n",
       "    <tr style=\"text-align: right;\">\n",
       "      <th></th>\n",
       "      <th>id</th>\n",
       "      <th>title</th>\n",
       "      <th>author</th>\n",
       "      <th>text</th>\n",
       "      <th>label</th>\n",
       "    </tr>\n",
       "  </thead>\n",
       "  <tbody>\n",
       "    <tr>\n",
       "      <th>0</th>\n",
       "      <td>0</td>\n",
       "      <td>House Dem Aide: We Didn’t Even See Comey’s Let...</td>\n",
       "      <td>Darrell Lucus</td>\n",
       "      <td>House Dem Aide: We Didn’t Even See Comey’s Let...</td>\n",
       "      <td>1</td>\n",
       "    </tr>\n",
       "    <tr>\n",
       "      <th>1</th>\n",
       "      <td>1</td>\n",
       "      <td>FLYNN: Hillary Clinton, Big Woman on Campus - ...</td>\n",
       "      <td>Daniel J. Flynn</td>\n",
       "      <td>Ever get the feeling your life circles the rou...</td>\n",
       "      <td>0</td>\n",
       "    </tr>\n",
       "    <tr>\n",
       "      <th>2</th>\n",
       "      <td>2</td>\n",
       "      <td>Why the Truth Might Get You Fired</td>\n",
       "      <td>Consortiumnews.com</td>\n",
       "      <td>Why the Truth Might Get You Fired October 29, ...</td>\n",
       "      <td>1</td>\n",
       "    </tr>\n",
       "    <tr>\n",
       "      <th>3</th>\n",
       "      <td>3</td>\n",
       "      <td>15 Civilians Killed In Single US Airstrike Hav...</td>\n",
       "      <td>Jessica Purkiss</td>\n",
       "      <td>Videos 15 Civilians Killed In Single US Airstr...</td>\n",
       "      <td>1</td>\n",
       "    </tr>\n",
       "    <tr>\n",
       "      <th>4</th>\n",
       "      <td>4</td>\n",
       "      <td>Iranian woman jailed for fictional unpublished...</td>\n",
       "      <td>Howard Portnoy</td>\n",
       "      <td>Print \\nAn Iranian woman has been sentenced to...</td>\n",
       "      <td>1</td>\n",
       "    </tr>\n",
       "    <tr>\n",
       "      <th>5</th>\n",
       "      <td>5</td>\n",
       "      <td>Jackie Mason: Hollywood Would Love Trump if He...</td>\n",
       "      <td>Daniel Nussbaum</td>\n",
       "      <td>In these trying times, Jackie Mason is the Voi...</td>\n",
       "      <td>0</td>\n",
       "    </tr>\n",
       "    <tr>\n",
       "      <th>6</th>\n",
       "      <td>6</td>\n",
       "      <td>Life: Life Of Luxury: Elton John’s 6 Favorite ...</td>\n",
       "      <td>NaN</td>\n",
       "      <td>Ever wonder how Britain’s most iconic pop pian...</td>\n",
       "      <td>1</td>\n",
       "    </tr>\n",
       "    <tr>\n",
       "      <th>7</th>\n",
       "      <td>7</td>\n",
       "      <td>Benoît Hamon Wins French Socialist Party’s Pre...</td>\n",
       "      <td>Alissa J. Rubin</td>\n",
       "      <td>PARIS  —   France chose an idealistic, traditi...</td>\n",
       "      <td>0</td>\n",
       "    </tr>\n",
       "    <tr>\n",
       "      <th>8</th>\n",
       "      <td>8</td>\n",
       "      <td>Excerpts From a Draft Script for Donald Trump’...</td>\n",
       "      <td>NaN</td>\n",
       "      <td>Donald J. Trump is scheduled to make a highly ...</td>\n",
       "      <td>0</td>\n",
       "    </tr>\n",
       "    <tr>\n",
       "      <th>9</th>\n",
       "      <td>9</td>\n",
       "      <td>A Back-Channel Plan for Ukraine and Russia, Co...</td>\n",
       "      <td>Megan Twohey and Scott Shane</td>\n",
       "      <td>A week before Michael T. Flynn resigned as nat...</td>\n",
       "      <td>0</td>\n",
       "    </tr>\n",
       "  </tbody>\n",
       "</table>\n",
       "</div>"
      ],
      "text/plain": [
       "   id                                              title  \\\n",
       "0   0  House Dem Aide: We Didn’t Even See Comey’s Let...   \n",
       "1   1  FLYNN: Hillary Clinton, Big Woman on Campus - ...   \n",
       "2   2                  Why the Truth Might Get You Fired   \n",
       "3   3  15 Civilians Killed In Single US Airstrike Hav...   \n",
       "4   4  Iranian woman jailed for fictional unpublished...   \n",
       "5   5  Jackie Mason: Hollywood Would Love Trump if He...   \n",
       "6   6  Life: Life Of Luxury: Elton John’s 6 Favorite ...   \n",
       "7   7  Benoît Hamon Wins French Socialist Party’s Pre...   \n",
       "8   8  Excerpts From a Draft Script for Donald Trump’...   \n",
       "9   9  A Back-Channel Plan for Ukraine and Russia, Co...   \n",
       "\n",
       "                         author  \\\n",
       "0                 Darrell Lucus   \n",
       "1               Daniel J. Flynn   \n",
       "2            Consortiumnews.com   \n",
       "3               Jessica Purkiss   \n",
       "4                Howard Portnoy   \n",
       "5               Daniel Nussbaum   \n",
       "6                           NaN   \n",
       "7               Alissa J. Rubin   \n",
       "8                           NaN   \n",
       "9  Megan Twohey and Scott Shane   \n",
       "\n",
       "                                                text  label  \n",
       "0  House Dem Aide: We Didn’t Even See Comey’s Let...      1  \n",
       "1  Ever get the feeling your life circles the rou...      0  \n",
       "2  Why the Truth Might Get You Fired October 29, ...      1  \n",
       "3  Videos 15 Civilians Killed In Single US Airstr...      1  \n",
       "4  Print \\nAn Iranian woman has been sentenced to...      1  \n",
       "5  In these trying times, Jackie Mason is the Voi...      0  \n",
       "6  Ever wonder how Britain’s most iconic pop pian...      1  \n",
       "7  PARIS  —   France chose an idealistic, traditi...      0  \n",
       "8  Donald J. Trump is scheduled to make a highly ...      0  \n",
       "9  A week before Michael T. Flynn resigned as nat...      0  "
      ]
     },
     "execution_count": 7,
     "metadata": {},
     "output_type": "execute_result"
    }
   ],
   "source": [
    "df.head(10)"
   ]
  },
  {
   "cell_type": "code",
   "execution_count": 8,
   "id": "080a32e8-c800-42a4-9779-0ba52ded23e1",
   "metadata": {},
   "outputs": [
    {
     "data": {
      "text/html": [
       "<div>\n",
       "<style scoped>\n",
       "    .dataframe tbody tr th:only-of-type {\n",
       "        vertical-align: middle;\n",
       "    }\n",
       "\n",
       "    .dataframe tbody tr th {\n",
       "        vertical-align: top;\n",
       "    }\n",
       "\n",
       "    .dataframe thead th {\n",
       "        text-align: right;\n",
       "    }\n",
       "</style>\n",
       "<table border=\"1\" class=\"dataframe\">\n",
       "  <thead>\n",
       "    <tr style=\"text-align: right;\">\n",
       "      <th></th>\n",
       "      <th>id</th>\n",
       "      <th>label</th>\n",
       "    </tr>\n",
       "  </thead>\n",
       "  <tbody>\n",
       "    <tr>\n",
       "      <th>count</th>\n",
       "      <td>20800.000000</td>\n",
       "      <td>20800.000000</td>\n",
       "    </tr>\n",
       "    <tr>\n",
       "      <th>mean</th>\n",
       "      <td>10399.500000</td>\n",
       "      <td>0.500625</td>\n",
       "    </tr>\n",
       "    <tr>\n",
       "      <th>std</th>\n",
       "      <td>6004.587135</td>\n",
       "      <td>0.500012</td>\n",
       "    </tr>\n",
       "    <tr>\n",
       "      <th>min</th>\n",
       "      <td>0.000000</td>\n",
       "      <td>0.000000</td>\n",
       "    </tr>\n",
       "    <tr>\n",
       "      <th>25%</th>\n",
       "      <td>5199.750000</td>\n",
       "      <td>0.000000</td>\n",
       "    </tr>\n",
       "    <tr>\n",
       "      <th>50%</th>\n",
       "      <td>10399.500000</td>\n",
       "      <td>1.000000</td>\n",
       "    </tr>\n",
       "    <tr>\n",
       "      <th>75%</th>\n",
       "      <td>15599.250000</td>\n",
       "      <td>1.000000</td>\n",
       "    </tr>\n",
       "    <tr>\n",
       "      <th>max</th>\n",
       "      <td>20799.000000</td>\n",
       "      <td>1.000000</td>\n",
       "    </tr>\n",
       "  </tbody>\n",
       "</table>\n",
       "</div>"
      ],
      "text/plain": [
       "                 id         label\n",
       "count  20800.000000  20800.000000\n",
       "mean   10399.500000      0.500625\n",
       "std     6004.587135      0.500012\n",
       "min        0.000000      0.000000\n",
       "25%     5199.750000      0.000000\n",
       "50%    10399.500000      1.000000\n",
       "75%    15599.250000      1.000000\n",
       "max    20799.000000      1.000000"
      ]
     },
     "execution_count": 8,
     "metadata": {},
     "output_type": "execute_result"
    }
   ],
   "source": [
    "df.describe()"
   ]
  },
  {
   "cell_type": "code",
   "execution_count": 9,
   "id": "817341c3-1899-4ce2-bb0a-7f934c6d5c66",
   "metadata": {},
   "outputs": [
    {
     "name": "stdout",
     "output_type": "stream",
     "text": [
      "<class 'pandas.core.frame.DataFrame'>\n",
      "RangeIndex: 20800 entries, 0 to 20799\n",
      "Data columns (total 5 columns):\n",
      " #   Column  Non-Null Count  Dtype \n",
      "---  ------  --------------  ----- \n",
      " 0   id      20800 non-null  int64 \n",
      " 1   title   20242 non-null  object\n",
      " 2   author  18843 non-null  object\n",
      " 3   text    20761 non-null  object\n",
      " 4   label   20800 non-null  int64 \n",
      "dtypes: int64(2), object(3)\n",
      "memory usage: 812.6+ KB\n"
     ]
    }
   ],
   "source": [
    "df.info()"
   ]
  },
  {
   "cell_type": "markdown",
   "id": "b8e14b65-e476-4275-83a4-9e9acc1f2f90",
   "metadata": {},
   "source": [
    "#### Checking the dataset"
   ]
  },
  {
   "cell_type": "markdown",
   "id": "31ccee0e-1b4e-4ac0-8094-aba199e91f23",
   "metadata": {},
   "source": [
    "__Check columns for missing data__"
   ]
  },
  {
   "cell_type": "code",
   "execution_count": 10,
   "id": "5b7008e5-38c5-42a9-a7c2-f401a43ab202",
   "metadata": {},
   "outputs": [
    {
     "data": {
      "text/plain": [
       "id           0\n",
       "title      558\n",
       "author    1957\n",
       "text        39\n",
       "label        0\n",
       "dtype: int64"
      ]
     },
     "execution_count": 10,
     "metadata": {},
     "output_type": "execute_result"
    }
   ],
   "source": [
    "df.isnull().sum()"
   ]
  },
  {
   "cell_type": "markdown",
   "id": "595e9e5d-aa28-4364-bed6-f86dd0af4ec4",
   "metadata": {},
   "source": [
    "__Fill in missing data values__"
   ]
  },
  {
   "cell_type": "code",
   "execution_count": 11,
   "id": "2bcf04d4-547a-4aaf-969a-3b0eab9c358d",
   "metadata": {},
   "outputs": [],
   "source": [
    "df=df.fillna('')"
   ]
  },
  {
   "cell_type": "code",
   "execution_count": 12,
   "id": "a472cab0-e220-49e5-8fc0-88ad0d0dded4",
   "metadata": {},
   "outputs": [
    {
     "data": {
      "text/plain": [
       "id        0\n",
       "title     0\n",
       "author    0\n",
       "text      0\n",
       "label     0\n",
       "dtype: int64"
      ]
     },
     "execution_count": 12,
     "metadata": {},
     "output_type": "execute_result"
    }
   ],
   "source": [
    "df.isnull().sum()"
   ]
  },
  {
   "cell_type": "markdown",
   "id": "ac775a3a-9b23-468a-8126-ea2fb2d9e08f",
   "metadata": {},
   "source": [
    "__Deletion \"data\" and \"frame\" columns__"
   ]
  },
  {
   "cell_type": "code",
   "execution_count": 13,
   "id": "60ef30bc-acbc-48d7-a1dd-4c83f195da8e",
   "metadata": {},
   "outputs": [
    {
     "data": {
      "text/plain": [
       "Index(['id', 'title', 'author', 'text', 'label'], dtype='object')"
      ]
     },
     "execution_count": 13,
     "metadata": {},
     "output_type": "execute_result"
    }
   ],
   "source": [
    "df.columns"
   ]
  },
  {
   "cell_type": "code",
   "execution_count": 14,
   "id": "086a88ca-1084-43cd-8863-ef4076b4ddd9",
   "metadata": {},
   "outputs": [],
   "source": [
    "df=df.drop(['id', 'title', 'author'], axis=1)"
   ]
  },
  {
   "cell_type": "code",
   "execution_count": 15,
   "id": "7cd1cae5-4780-4b39-867a-859da8bc0b81",
   "metadata": {},
   "outputs": [
    {
     "data": {
      "text/html": [
       "<div>\n",
       "<style scoped>\n",
       "    .dataframe tbody tr th:only-of-type {\n",
       "        vertical-align: middle;\n",
       "    }\n",
       "\n",
       "    .dataframe tbody tr th {\n",
       "        vertical-align: top;\n",
       "    }\n",
       "\n",
       "    .dataframe thead th {\n",
       "        text-align: right;\n",
       "    }\n",
       "</style>\n",
       "<table border=\"1\" class=\"dataframe\">\n",
       "  <thead>\n",
       "    <tr style=\"text-align: right;\">\n",
       "      <th></th>\n",
       "      <th>text</th>\n",
       "      <th>label</th>\n",
       "    </tr>\n",
       "  </thead>\n",
       "  <tbody>\n",
       "    <tr>\n",
       "      <th>0</th>\n",
       "      <td>House Dem Aide: We Didn’t Even See Comey’s Let...</td>\n",
       "      <td>1</td>\n",
       "    </tr>\n",
       "    <tr>\n",
       "      <th>1</th>\n",
       "      <td>Ever get the feeling your life circles the rou...</td>\n",
       "      <td>0</td>\n",
       "    </tr>\n",
       "    <tr>\n",
       "      <th>2</th>\n",
       "      <td>Why the Truth Might Get You Fired October 29, ...</td>\n",
       "      <td>1</td>\n",
       "    </tr>\n",
       "    <tr>\n",
       "      <th>3</th>\n",
       "      <td>Videos 15 Civilians Killed In Single US Airstr...</td>\n",
       "      <td>1</td>\n",
       "    </tr>\n",
       "    <tr>\n",
       "      <th>4</th>\n",
       "      <td>Print \\nAn Iranian woman has been sentenced to...</td>\n",
       "      <td>1</td>\n",
       "    </tr>\n",
       "  </tbody>\n",
       "</table>\n",
       "</div>"
      ],
      "text/plain": [
       "                                                text  label\n",
       "0  House Dem Aide: We Didn’t Even See Comey’s Let...      1\n",
       "1  Ever get the feeling your life circles the rou...      0\n",
       "2  Why the Truth Might Get You Fired October 29, ...      1\n",
       "3  Videos 15 Civilians Killed In Single US Airstr...      1\n",
       "4  Print \\nAn Iranian woman has been sentenced to...      1"
      ]
     },
     "execution_count": 15,
     "metadata": {},
     "output_type": "execute_result"
    }
   ],
   "source": [
    "df.head()"
   ]
  },
  {
   "cell_type": "markdown",
   "id": "d4c92017-ee5e-4983-bcf0-97907bfa5e52",
   "metadata": {},
   "source": [
    "### Preparation of the text"
   ]
  },
  {
   "cell_type": "code",
   "execution_count": 16,
   "id": "efdea281-206b-4733-843c-fadf9fc3b8c6",
   "metadata": {},
   "outputs": [],
   "source": [
    "from nltk.corpus import stopwords\n",
    "from nltk.stem.porter import PorterStemmer\n",
    "import re\n",
    "import nltk"
   ]
  },
  {
   "cell_type": "markdown",
   "id": "9eb4cd41-bcd1-4edc-982b-cd04546ab1d6",
   "metadata": {},
   "source": [
    "__Initialisation of the stemming facility__"
   ]
  },
  {
   "cell_type": "code",
   "execution_count": 17,
   "id": "c5575573-7cf4-423d-a918-ca530f71ca2a",
   "metadata": {},
   "outputs": [],
   "source": [
    "port_stem=PorterStemmer()"
   ]
  },
  {
   "cell_type": "code",
   "execution_count": 18,
   "id": "79cc2ee9-b016-4809-8db8-c36ca73982fc",
   "metadata": {},
   "outputs": [
    {
     "data": {
      "text/plain": [
       "<PorterStemmer>"
      ]
     },
     "execution_count": 18,
     "metadata": {},
     "output_type": "execute_result"
    }
   ],
   "source": [
    "port_stem"
   ]
  },
  {
   "cell_type": "markdown",
   "id": "031aaee2-5ca3-4e5a-b333-4facfb737765",
   "metadata": {},
   "source": [
    "#### Reliability prediction function"
   ]
  },
  {
   "cell_type": "code",
   "execution_count": 19,
   "id": "eba464ae-f26f-4196-98ba-549875412149",
   "metadata": {},
   "outputs": [],
   "source": [
    "def stemming(content):\n",
    "    con=re.sub('[^a-zA-Z]', ' ', content)\n",
    "    con=con.lower()\n",
    "    con=con.split()\n",
    "    con=[port_stem.stem(word) for word in con if not word in stopwords.words('english')]\n",
    "    con=' '.join(con)\n",
    "    return con"
   ]
  },
  {
   "cell_type": "markdown",
   "id": "d0e029e2-35b0-449a-bcbf-be6dde4bff47",
   "metadata": {},
   "source": [
    "__Performing stemming on all elements of the \"text\" column.__"
   ]
  },
  {
   "cell_type": "code",
   "execution_count": 20,
   "id": "865820c7-72ac-4a7d-8355-f4188182cc3b",
   "metadata": {},
   "outputs": [],
   "source": [
    "from tqdm import tqdm\n",
    "tqdm.pandas()"
   ]
  },
  {
   "cell_type": "code",
   "execution_count": 21,
   "id": "465e5f52-b4a6-40cf-9f92-e6b1b1b1b2d9",
   "metadata": {},
   "outputs": [
    {
     "name": "stderr",
     "output_type": "stream",
     "text": [
      "100%|████████████████████████████████████████████████████████████████████████████| 20800/20800 [57:13<00:00,  6.06it/s]\n"
     ]
    }
   ],
   "source": [
    "df['text']= df['text'].progress_apply(stemming)"
   ]
  },
  {
   "cell_type": "code",
   "execution_count": 22,
   "id": "d5ea3443-9391-412c-966f-c709af43eaa6",
   "metadata": {},
   "outputs": [],
   "source": [
    "x=df['text']"
   ]
  },
  {
   "cell_type": "code",
   "execution_count": 23,
   "id": "3402ea30-b70f-4cc2-b763-ca801e3f026a",
   "metadata": {},
   "outputs": [],
   "source": [
    "y=df['label']"
   ]
  },
  {
   "cell_type": "code",
   "execution_count": 24,
   "id": "4fdb4e16-57be-48e4-bbcf-be3e2dea35bc",
   "metadata": {},
   "outputs": [
    {
     "data": {
      "text/plain": [
       "(20800,)"
      ]
     },
     "execution_count": 24,
     "metadata": {},
     "output_type": "execute_result"
    }
   ],
   "source": [
    "y.shape"
   ]
  },
  {
   "cell_type": "markdown",
   "id": "3d9926a7-b3c0-4730-94a0-f7b3409ecef5",
   "metadata": {},
   "source": [
    "### Import of libraries for ML"
   ]
  },
  {
   "cell_type": "code",
   "execution_count": 36,
   "id": "607dad1a-341d-47b5-a418-362470fb3611",
   "metadata": {},
   "outputs": [],
   "source": [
    "from sklearn.model_selection import train_test_split\n",
    "from sklearn.feature_extraction.text import TfidfVectorizer\n",
    "from sklearn.tree import DecisionTreeClassifier\n",
    "import pickle"
   ]
  },
  {
   "cell_type": "markdown",
   "id": "5fadc585-1270-4a28-a5c0-3ab1d603b148",
   "metadata": {},
   "source": [
    "__Division of data into training and test sets__"
   ]
  },
  {
   "cell_type": "code",
   "execution_count": 26,
   "id": "3706fbec-d11f-4ed1-aedd-d652b3665ca5",
   "metadata": {},
   "outputs": [],
   "source": [
    "x_train , x_test , y_train, y_test = train_test_split(x, y, test_size=0.20)"
   ]
  },
  {
   "cell_type": "markdown",
   "id": "d21eaec7-488b-4c7a-b1be-41b6ef6192be",
   "metadata": {},
   "source": [
    "__Preparation of text features using TF-IDF__"
   ]
  },
  {
   "cell_type": "code",
   "execution_count": 27,
   "id": "02d19ab3-6b16-4e7d-951a-a97fc0e9efbe",
   "metadata": {},
   "outputs": [],
   "source": [
    "vect=TfidfVectorizer()"
   ]
  },
  {
   "cell_type": "code",
   "execution_count": 28,
   "id": "2d3df701-a559-4783-bb77-6919337d768d",
   "metadata": {},
   "outputs": [],
   "source": [
    "x_train=vect.fit_transform(x_train)\n",
    "x_test=vect.transform(x_test)"
   ]
  },
  {
   "cell_type": "markdown",
   "id": "6d2c2c3b-a4e0-4adf-88d8-6b0b4f3de534",
   "metadata": {},
   "source": [
    "__Checking the shape of the text data__"
   ]
  },
  {
   "cell_type": "code",
   "execution_count": 29,
   "id": "ca645b2f-68a7-45f2-8083-96382fecc1a4",
   "metadata": {},
   "outputs": [
    {
     "data": {
      "text/plain": [
       "(4160, 98388)"
      ]
     },
     "execution_count": 29,
     "metadata": {},
     "output_type": "execute_result"
    }
   ],
   "source": [
    "x_test.shape"
   ]
  },
  {
   "cell_type": "markdown",
   "id": "19b2d9ae-8764-492c-82c4-a887c379345b",
   "metadata": {},
   "source": [
    "__Creation and training of a decision tree classifier model__"
   ]
  },
  {
   "cell_type": "code",
   "execution_count": 30,
   "id": "8fb9dd53-381c-407b-8be3-50befc7ca8b9",
   "metadata": {},
   "outputs": [],
   "source": [
    "model=DecisionTreeClassifier()"
   ]
  },
  {
   "cell_type": "code",
   "execution_count": 31,
   "id": "c095a31b-f101-4d56-ba7e-e14dd6375f7e",
   "metadata": {},
   "outputs": [
    {
     "data": {
      "text/html": [
       "<style>#sk-container-id-1 {color: black;background-color: white;}#sk-container-id-1 pre{padding: 0;}#sk-container-id-1 div.sk-toggleable {background-color: white;}#sk-container-id-1 label.sk-toggleable__label {cursor: pointer;display: block;width: 100%;margin-bottom: 0;padding: 0.3em;box-sizing: border-box;text-align: center;}#sk-container-id-1 label.sk-toggleable__label-arrow:before {content: \"▸\";float: left;margin-right: 0.25em;color: #696969;}#sk-container-id-1 label.sk-toggleable__label-arrow:hover:before {color: black;}#sk-container-id-1 div.sk-estimator:hover label.sk-toggleable__label-arrow:before {color: black;}#sk-container-id-1 div.sk-toggleable__content {max-height: 0;max-width: 0;overflow: hidden;text-align: left;background-color: #f0f8ff;}#sk-container-id-1 div.sk-toggleable__content pre {margin: 0.2em;color: black;border-radius: 0.25em;background-color: #f0f8ff;}#sk-container-id-1 input.sk-toggleable__control:checked~div.sk-toggleable__content {max-height: 200px;max-width: 100%;overflow: auto;}#sk-container-id-1 input.sk-toggleable__control:checked~label.sk-toggleable__label-arrow:before {content: \"▾\";}#sk-container-id-1 div.sk-estimator input.sk-toggleable__control:checked~label.sk-toggleable__label {background-color: #d4ebff;}#sk-container-id-1 div.sk-label input.sk-toggleable__control:checked~label.sk-toggleable__label {background-color: #d4ebff;}#sk-container-id-1 input.sk-hidden--visually {border: 0;clip: rect(1px 1px 1px 1px);clip: rect(1px, 1px, 1px, 1px);height: 1px;margin: -1px;overflow: hidden;padding: 0;position: absolute;width: 1px;}#sk-container-id-1 div.sk-estimator {font-family: monospace;background-color: #f0f8ff;border: 1px dotted black;border-radius: 0.25em;box-sizing: border-box;margin-bottom: 0.5em;}#sk-container-id-1 div.sk-estimator:hover {background-color: #d4ebff;}#sk-container-id-1 div.sk-parallel-item::after {content: \"\";width: 100%;border-bottom: 1px solid gray;flex-grow: 1;}#sk-container-id-1 div.sk-label:hover label.sk-toggleable__label {background-color: #d4ebff;}#sk-container-id-1 div.sk-serial::before {content: \"\";position: absolute;border-left: 1px solid gray;box-sizing: border-box;top: 0;bottom: 0;left: 50%;z-index: 0;}#sk-container-id-1 div.sk-serial {display: flex;flex-direction: column;align-items: center;background-color: white;padding-right: 0.2em;padding-left: 0.2em;position: relative;}#sk-container-id-1 div.sk-item {position: relative;z-index: 1;}#sk-container-id-1 div.sk-parallel {display: flex;align-items: stretch;justify-content: center;background-color: white;position: relative;}#sk-container-id-1 div.sk-item::before, #sk-container-id-1 div.sk-parallel-item::before {content: \"\";position: absolute;border-left: 1px solid gray;box-sizing: border-box;top: 0;bottom: 0;left: 50%;z-index: -1;}#sk-container-id-1 div.sk-parallel-item {display: flex;flex-direction: column;z-index: 1;position: relative;background-color: white;}#sk-container-id-1 div.sk-parallel-item:first-child::after {align-self: flex-end;width: 50%;}#sk-container-id-1 div.sk-parallel-item:last-child::after {align-self: flex-start;width: 50%;}#sk-container-id-1 div.sk-parallel-item:only-child::after {width: 0;}#sk-container-id-1 div.sk-dashed-wrapped {border: 1px dashed gray;margin: 0 0.4em 0.5em 0.4em;box-sizing: border-box;padding-bottom: 0.4em;background-color: white;}#sk-container-id-1 div.sk-label label {font-family: monospace;font-weight: bold;display: inline-block;line-height: 1.2em;}#sk-container-id-1 div.sk-label-container {text-align: center;}#sk-container-id-1 div.sk-container {/* jupyter's `normalize.less` sets `[hidden] { display: none; }` but bootstrap.min.css set `[hidden] { display: none !important; }` so we also need the `!important` here to be able to override the default hidden behavior on the sphinx rendered scikit-learn.org. See: https://github.com/scikit-learn/scikit-learn/issues/21755 */display: inline-block !important;position: relative;}#sk-container-id-1 div.sk-text-repr-fallback {display: none;}</style><div id=\"sk-container-id-1\" class=\"sk-top-container\"><div class=\"sk-text-repr-fallback\"><pre>DecisionTreeClassifier()</pre><b>In a Jupyter environment, please rerun this cell to show the HTML representation or trust the notebook. <br />On GitHub, the HTML representation is unable to render, please try loading this page with nbviewer.org.</b></div><div class=\"sk-container\" hidden><div class=\"sk-item\"><div class=\"sk-estimator sk-toggleable\"><input class=\"sk-toggleable__control sk-hidden--visually\" id=\"sk-estimator-id-1\" type=\"checkbox\" checked><label for=\"sk-estimator-id-1\" class=\"sk-toggleable__label sk-toggleable__label-arrow\">DecisionTreeClassifier</label><div class=\"sk-toggleable__content\"><pre>DecisionTreeClassifier()</pre></div></div></div></div></div>"
      ],
      "text/plain": [
       "DecisionTreeClassifier()"
      ]
     },
     "execution_count": 31,
     "metadata": {},
     "output_type": "execute_result"
    }
   ],
   "source": [
    "model.fit(x_train, y_train)"
   ]
  },
  {
   "cell_type": "markdown",
   "id": "482c0e48-6530-4fb4-8ff8-6d4558cbb00a",
   "metadata": {},
   "source": [
    "__Predictive labelling on text data__"
   ]
  },
  {
   "cell_type": "code",
   "execution_count": 32,
   "id": "6a96aad6-c376-43c2-a738-08fd2ecd0ba3",
   "metadata": {},
   "outputs": [],
   "source": [
    "prediction=model.predict(x_test)"
   ]
  },
  {
   "cell_type": "code",
   "execution_count": 33,
   "id": "532010d2-d541-48ac-bcd3-b842272cb3e1",
   "metadata": {},
   "outputs": [
    {
     "data": {
      "text/plain": [
       "array([1, 1, 0, ..., 0, 1, 0], dtype=int64)"
      ]
     },
     "execution_count": 33,
     "metadata": {},
     "output_type": "execute_result"
    }
   ],
   "source": [
    "prediction"
   ]
  },
  {
   "cell_type": "markdown",
   "id": "1ea01037-edd8-44ea-aca0-e4d7dd9caaa0",
   "metadata": {},
   "source": [
    "__Assessment of model accuracy__"
   ]
  },
  {
   "cell_type": "code",
   "execution_count": 34,
   "id": "2e4ad5e6-d835-4992-a281-89783d42343a",
   "metadata": {},
   "outputs": [
    {
     "data": {
      "text/plain": [
       "0.8790865384615385"
      ]
     },
     "execution_count": 34,
     "metadata": {},
     "output_type": "execute_result"
    }
   ],
   "source": [
    "model.score(x_test, y_test)"
   ]
  },
  {
   "cell_type": "markdown",
   "id": "2d93bcf9-b300-4849-baf4-65e4f30af8b7",
   "metadata": {},
   "source": [
    "__Saving the vector and model to files__"
   ]
  },
  {
   "cell_type": "code",
   "execution_count": 37,
   "id": "b3673c1a-c3e2-4ea3-a556-a7066f00adc3",
   "metadata": {},
   "outputs": [],
   "source": [
    "pickle.dump(vect, open('vector.pkl', 'wb'))"
   ]
  },
  {
   "cell_type": "code",
   "execution_count": 38,
   "id": "82613b73-ce94-42f6-8fd8-eb77160a9c1a",
   "metadata": {},
   "outputs": [],
   "source": [
    "pickle.dump(model, open('model.pkl', 'wb'))"
   ]
  },
  {
   "cell_type": "markdown",
   "id": "45fb24db-0848-4650-97c5-5284c4bd2f91",
   "metadata": {},
   "source": [
    "__Loading vector and model from files__"
   ]
  },
  {
   "cell_type": "code",
   "execution_count": 39,
   "id": "3f6650d9-5b37-45c4-99db-c2508d062fa2",
   "metadata": {},
   "outputs": [],
   "source": [
    "vector_form=pickle.load(open('vector.pkl', 'rb'))"
   ]
  },
  {
   "cell_type": "code",
   "execution_count": 40,
   "id": "7d3a3dd0-48f8-46c8-b2d8-3bee00881bc7",
   "metadata": {},
   "outputs": [],
   "source": [
    "load_model=pickle.load(open('model.pkl', 'rb'))"
   ]
  },
  {
   "cell_type": "markdown",
   "id": "f77ff2f4-2956-477a-b2ee-a3b5ee770f9d",
   "metadata": {},
   "source": [
    "### Test"
   ]
  },
  {
   "cell_type": "code",
   "execution_count": 74,
   "id": "58a73a97-ff47-4426-9fd0-2d10674b8cf9",
   "metadata": {},
   "outputs": [],
   "source": [
    "def check_news(news):\n",
    "    news=stemming(news)\n",
    "    input_data=[news]\n",
    "    vector_form1=vector_form.transform(input_data)\n",
    "    prediction = load_model.predict(vector_form1)\n",
    "    return prediction"
   ]
  },
  {
   "cell_type": "markdown",
   "id": "5abfd472-5dcb-4d4e-b7a9-c2b5f2620734",
   "metadata": {},
   "source": [
    "__Reading in the text to be checked__"
   ]
  },
  {
   "cell_type": "markdown",
   "id": "0f9b4d80-1197-4322-b9fb-0d5d618eca9a",
   "metadata": {},
   "source": [
    "Demonstration of the operation of the model using the example of an article from the website https://www.bbc.com/news/world-middle-east-68766592\n",
    "\n",
    "Assumption made for Article 1 - credible."
   ]
  },
  {
   "cell_type": "code",
   "execution_count": 76,
   "id": "79aefa88-3c65-4efb-8652-d3532561a221",
   "metadata": {},
   "outputs": [],
   "source": [
    "val=check_news(\"\"\"US President Joe Biden has said he believes that Israel's Prime Minister Benjamin Netanyahu is making a \"mistake\" in his handling of Gaza.\n",
    "\n",
    "\"I think what he's doing is a mistake. I don't agree with his approach,\" he said in an interview.\n",
    "\n",
    "He said Gaza should have \"total access to all food and medicine\" for the next six to eight weeks.\n",
    "\n",
    "Last week he warned ongoing US support for the war depended on Israel allowing in more food and medicine.\n",
    "\n",
    "Israel has denied impeding the entry of aid or its distribution inside Gaza, and has accused UN agencies on the ground of failing to get the aid that is allowed in to the people who need it.\n",
    "\n",
    "Weeks of talks have failed to produce a ceasefire agreement but international pressure is growing.\n",
    "\n",
    "0:35\n",
    "Watch: Biden says Netanyahu making 'a mistake' in Gaza\n",
    "The hour-long interview was recorded last Wednesday - days after Israeli military strikes killed seven aid workers with World Central Kitchen - and it aired on Tuesday night on US Spanish-language network Univision.\n",
    "\n",
    "Mr Biden said it was \"outrageous\" how the aid organisation's vehicles had been \"hit by drones and taken out on a highway\".\n",
    "\n",
    "US pressure on Israel not enough, say dissenting officials\n",
    "What we know about Israeli strike on aid convoy\n",
    "Six months on, how close is Israel to eliminating Hamas?\n",
    "The Israel Defense Forces have since said \"grave mistakes\" led to the fatal targeting of the workers. An inquiry led to two senior officers being dismissed.\n",
    "\n",
    "In the interview Mr Biden said: \"What I'm calling for is for the Israelis to just call for a ceasefire, allow for the next six, eight weeks, total access to all food and medicine going into the country.\"\n",
    "\n",
    "The president has previously said Hamas must agree to a pause and release remaining hostages.\n",
    "\n",
    "Israel said recently that it would open a crossing to northern Gaza and a deep water port, to allow more aid to flow into the area. It has not yet detailed when or how these routes will operate.\n",
    "\n",
    "Mr Biden is facing domestic pressure over Israel. Over the past weeks he has sharpened his rhetoric, including towards Mr Netanyahu, over the conduct of the war which has now lasted six months.\n",
    "\n",
    "Meanwhile, military supplies including bombs, missiles and ammunition have continued to flow from the US to Israel uninterrupted.\n",
    "\n",
    "Hamas-led gunmen attacked southern Israeli border communities on 7 October, killing 1,200 people and taking more than 250 hostage.\n",
    "\n",
    "Israel says that of 130 hostages still in Gaza, at least 34 are dead.\n",
    "\n",
    "More than 33,000 Gazans, the majority of them civilians, have been killed during Israel's offensive in Gaza since the October attack, the Hamas-run health ministry says.\"\"\")"
   ]
  },
  {
   "cell_type": "markdown",
   "id": "39022ec6-c99a-4405-972a-63a559e5f71a",
   "metadata": {},
   "source": [
    "Article 2 generated by Gemini.google.com.app based on examples of fake news\n",
    "\n",
    "Assumptions for article - Not credible"
   ]
  },
  {
   "cell_type": "code",
   "execution_count": 78,
   "id": "fc30ed0d-7ea9-4eb0-bdf9-792fdaa26f92",
   "metadata": {},
   "outputs": [],
   "source": [
    "val=check_news(\"\"\"The \"Delta Plus\" variant is more contagious and deadly for children than previous variants. Vaccines are not effective against this variant!\n",
    "\n",
    "Symptoms include high fever, cough, difficulty breathing, chest pain, and bruising on the skin. If your child has any of these symptoms, contact a doctor immediately!\n",
    "\n",
    "The government recommends that all children under 12 stay home and avoid contact with others. Schools and kindergartens will be closed until further notice.\n",
    "\n",
    "This is a very serious situation! We must protect our children! Share this message with everyone you know!\n",
    "\n",
    "Here's what you can do to protect your children: frequent handwashing, social distancing, and wearing masks when absolutely necessary. When unsure about any symptoms, it's always better to err on the side of caution and seek medical attention.\n",
    "\n",
    "Talk to your children about the importance of hygiene and staying healthy during this time. Stock up on essential supplies like pain relievers, thermometers, and kid-friendly masks (if appropriate for your child's age).\n",
    "\n",
    "Let your children know you're there for them and answer any questions they may have in a calm and reassuring way. Consider creating a fun and safe indoor activity schedule to keep your children entertained while they're at home.\n",
    "\n",
    "Check in with friends, family, and neighbors who have children, especially those who may need extra support. Many local organizations offer online resources and activities for children stuck at home. Explore these options!\n",
    "\n",
    "If you work from home, consider creating a dedicated workspace to minimize disruptions for both you and your children. Don't be afraid to ask for help! Childcare resources are available for those who qualify.\n",
    "\n",
    "Remember, you're not alone in this. Many parents are facing similar challenges during this pandemic. Stay informed! Follow updates from trusted health organizations for the latest information on the Delta Plus variant.\n",
    "\n",
    "If you suspect your child has been exposed to the virus, isolate them at home and monitor for symptoms. Be patient with yourself and your children. This is a stressful time for everyone.\n",
    "\n",
    "Take care of your own mental and physical health so you can best care for your children. Practice relaxation techniques like deep breathing or meditation to manage stress and anxiety.\n",
    "\n",
    "Let's work together to keep our communities safe and healthy. Social distancing is key! We can overcome this challenge by following recommended guidelines and supporting each other.\n",
    "\n",
    "Stay positive and focus on the things you can control. This too shall pass. In the meantime, cherish this extra time spent with your children. Create lasting memories!\n",
    "\n",
    "Let's use this opportunity to bond as a family and teach our children valuable life lessons about resilience. Show your children extra love and affection during this uncertain time.\n",
    "\n",
    "Let them know how much you love them and how strong they are. Together, we will get through this! Share this message with everyone you know so we can protect our children and ensure a brighter future for them.\n",
    "\n",
    "\"\"\")"
   ]
  },
  {
   "cell_type": "markdown",
   "id": "a3d35c94-4b54-458b-874f-a52e81bbcd5e",
   "metadata": {},
   "source": [
    "### Result"
   ]
  },
  {
   "cell_type": "markdown",
   "id": "ddaa2d5e-1e20-461e-9b26-242c7623617b",
   "metadata": {},
   "source": [
    "Article 1"
   ]
  },
  {
   "cell_type": "code",
   "execution_count": 77,
   "id": "5111b0e7-ecaa-411f-8bbd-1d92ff65bda7",
   "metadata": {},
   "outputs": [
    {
     "name": "stdout",
     "output_type": "stream",
     "text": [
      "Wiarygodny\n"
     ]
    }
   ],
   "source": [
    "if val==[0]:\n",
    "    print('Wiarygodny')\n",
    "else:\n",
    "    print('Nie Wiarygodny')"
   ]
  },
  {
   "cell_type": "markdown",
   "id": "f2777c51-baf1-47fb-978f-91aa6c797d21",
   "metadata": {},
   "source": [
    "Article 2"
   ]
  },
  {
   "cell_type": "code",
   "execution_count": 79,
   "id": "163702a9-99d1-425c-996f-f944da93ad5c",
   "metadata": {},
   "outputs": [
    {
     "name": "stdout",
     "output_type": "stream",
     "text": [
      "Nie Wiarygodny\n"
     ]
    }
   ],
   "source": [
    "if val==[0]:\n",
    "    print('Wiarygodny')\n",
    "else:\n",
    "    print('Nie Wiarygodny')"
   ]
  }
 ],
 "metadata": {
  "kernelspec": {
   "display_name": "Python 3 (ipykernel)",
   "language": "python",
   "name": "python3"
  },
  "language_info": {
   "codemirror_mode": {
    "name": "ipython",
    "version": 3
   },
   "file_extension": ".py",
   "mimetype": "text/x-python",
   "name": "python",
   "nbconvert_exporter": "python",
   "pygments_lexer": "ipython3",
   "version": "3.11.7"
  }
 },
 "nbformat": 4,
 "nbformat_minor": 5
}
